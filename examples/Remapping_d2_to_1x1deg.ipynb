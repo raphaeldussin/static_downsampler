{
 "cells": [
  {
   "cell_type": "markdown",
   "metadata": {},
   "source": [
    "# Remapping d2 downsampled data to 1x1 degree with fregrid"
   ]
  },
  {
   "cell_type": "markdown",
   "metadata": {},
   "source": [
    "In this notebook, we show how to create the input files on the downsampled grid and use them to create remapping weights for fregrid. This notebooks uses the static_downsampler package https://github.com/raphaeldussin/static_downsampler\n",
    "The package needs to be installed in the current environment to create the input files."
   ]
  },
  {
   "cell_type": "code",
   "execution_count": 3,
   "metadata": {},
   "outputs": [],
   "source": [
    "import subprocess as sp"
   ]
  },
  {
   "cell_type": "markdown",
   "metadata": {},
   "source": [
    "## Input files on downsampled grid"
   ]
  },
  {
   "cell_type": "markdown",
   "metadata": {},
   "source": [
    "From the native grid, you need to provide **ocean_hgrid.nc**.\n",
    "\n",
    "Create a downsampled ocean_hgrid using the utility code from static_downsampler:"
   ]
  },
  {
   "cell_type": "code",
   "execution_count": 4,
   "metadata": {},
   "outputs": [],
   "source": [
    "workdir = '../data/'"
   ]
  },
  {
   "cell_type": "code",
   "execution_count": 6,
   "metadata": {},
   "outputs": [
    {
     "name": "stdout",
     "output_type": "stream",
     "text": [
      "ocean_hgrid created\n"
     ]
    }
   ],
   "source": [
    "cmd = f'create_hgrid_d2.py -g {workdir}/ocean_hgrid.nc -o {workdir}/ocean_hgrid.nc.d2'\n",
    "out = sp.check_call(cmd, shell=True)\n",
    "if out == 0:\n",
    "    print('ocean_hgrid created')"
   ]
  },
  {
   "cell_type": "markdown",
   "metadata": {},
   "source": [
    "Create the ocean_mosaic grid for the downsampled grid. For this, you need the FRE-NCtools (https://github.com/NOAA-GFDL/FRE-NCtools) compiled on your system. Make sure you have netcdf/hdf and mpich loaded and then run in command line:"
   ]
  },
  {
   "cell_type": "raw",
   "metadata": {},
   "source": [
    "module load netcdf/4.2\n",
    "module load mpich2\n",
    "\n",
    "/work/Raphael.Dussin/soft/FRE-NCtools/build.fre-nctools.gfdl.bronx-15.5rwtB/tools/make_solo_mosaic/make_solo_mosaic \n",
    "--num_tiles 1 --dir . --mosaic_name ocean_mosaic --tile_file /path/to/ocean_hgrid.nc.d2"
   ]
  },
  {
   "cell_type": "markdown",
   "metadata": {},
   "source": [
    "You can rename the ocean_mosaic.nc to ocean_mosaic.nc.d2:"
   ]
  },
  {
   "cell_type": "raw",
   "metadata": {},
   "source": [
    "mv ocean_mosaic.nc ocean_mosaic.nc.d2"
   ]
  },
  {
   "cell_type": "markdown",
   "metadata": {},
   "source": [
    "## Creating the remapping weights"
   ]
  },
  {
   "cell_type": "markdown",
   "metadata": {},
   "source": [
    "fregrid is going to look for ocean_hgrid.nc to infer dimensions so we need to link the downsampled file to a bogus ocean_hgrid.nc. In this example, we interpolate the depth of the ocean for a downsampled static file (created with downsample.py). The remapping weights will be saved in remapwgts_d2.nc and an interpolated file for ocean depth will be created (remap_d2_to_1x1.nc).\n",
    "It can be used to check that the remap worked correctly then tossed. \n",
    "\n",
    "NB: we're using fregrid_parallel because larger grids cannot be handle by the serial fregrid code."
   ]
  },
  {
   "cell_type": "raw",
   "metadata": {},
   "source": [
    "ln -s ocean_hgrid.nc.d2 ocean_hgrid.nc\n",
    "\n",
    "mpirun -n 16 fregrid_parallel  --input_mosaic ocean_mosaic.nc.d2 \n",
    "                               --input_file ocean_annual_z_d2.static.nc \n",
    "                               --remap_file remapwgts_d2 --interp_method conserve_order1 \n",
    "                               --scalar_field deptho --nlon 360 --nlat 180 \n",
    "                               --output_file remap_d2_to_1x1"
   ]
  },
  {
   "cell_type": "markdown",
   "metadata": {},
   "source": [
    "Convert to netcdf3 just for the sake of bulletproofing it."
   ]
  },
  {
   "cell_type": "code",
   "execution_count": null,
   "metadata": {},
   "outputs": [],
   "source": [
    "ncks -3 remapwgts_d2 -o OM4p125_grid_d2_20190822_merged_bathy_remap_file_1140x1120_to_360x180.nc"
   ]
  },
  {
   "cell_type": "markdown",
   "metadata": {},
   "source": [
    "You can now use the remapping weights to remap d2 to 1x1deg in the FRE xml using:"
   ]
  },
  {
   "cell_type": "raw",
   "metadata": {},
   "source": [
    "<component type=\"ocean_monthly_z_d2_1x1deg\" start=\"$(PP_START_YEAR)\"  source=\"ocean_month_z_d2\" sourceGrid=\"ocean-tripolar\" xyInterp=\"180,360\" cmip=\"on\" xyInterpOptions=\"--input_mosaic /archive/Raphael.Dussin/datasets/OM4p125/OM4p125_grid_20191218_merged_bathy_unpacked/ocean_mosaic_d2.nc\">\n",
    "        <dataFile label=\"xyInterpRegridFile\">\n",
    "          /archive/Raphael.Dussin/datasets/OM4p125/OM4p125_grid_20191218_merged_bathy_unpacked/OM4p125_grid_d2_20190822_merged_bathy_remap_file_1140x1120_to_360x180.nc\n",
    "        </dataFile>\n",
    "        <timeSeries freq=\"monthly\" chunkLength=\"$(CHUNK_LENGTH_A)\" />\n",
    "        <timeAverage source=\"monthly\" interval=\"$(CHUNK_LENGTH_A)\"/>\n",
    "        </component>\n"
   ]
  },
  {
   "cell_type": "raw",
   "metadata": {},
   "source": []
  }
 ],
 "metadata": {
  "kernelspec": {
   "display_name": "analysis",
   "language": "python",
   "name": "analysis"
  },
  "language_info": {
   "codemirror_mode": {
    "name": "ipython",
    "version": 3
   },
   "file_extension": ".py",
   "mimetype": "text/x-python",
   "name": "python",
   "nbconvert_exporter": "python",
   "pygments_lexer": "ipython3",
   "version": "3.6.7"
  }
 },
 "nbformat": 4,
 "nbformat_minor": 2
}
